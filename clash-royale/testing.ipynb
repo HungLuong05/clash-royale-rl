{
 "cells": [
  {
   "cell_type": "code",
   "execution_count": 1,
   "metadata": {},
   "outputs": [],
   "source": [
    "import gymnasium\n",
    "import clash_royale\n",
    "env = gymnasium.make('clash_royale/Arena-v0', render_mode = \"human\")\n"
   ]
  },
  {
   "cell_type": "code",
   "execution_count": 2,
   "metadata": {},
   "outputs": [],
   "source": [
    "env.reset()\n",
    "env.render()\n"
   ]
  },
  {
   "cell_type": "code",
   "execution_count": 10,
   "metadata": {},
   "outputs": [
    {
     "data": {
      "text/plain": [
       "({'blue-troops': array([[  3.853017 ,   5.1378646,   0.       , 150.       ],\n",
       "         [  0.       ,   0.       ,   0.       ,   0.       ],\n",
       "         [  0.       ,   0.       ,   0.       ,   0.       ],\n",
       "         [  0.       ,   0.       ,   0.       ,   0.       ],\n",
       "         [  0.       ,   0.       ,   0.       ,   0.       ],\n",
       "         [  0.       ,   0.       ,   0.       ,   0.       ],\n",
       "         [  0.       ,   0.       ,   0.       ,   0.       ],\n",
       "         [  0.       ,   0.       ,   0.       ,   0.       ],\n",
       "         [  0.       ,   0.       ,   0.       ,   0.       ],\n",
       "         [  0.       ,   0.       ,   0.       ,   0.       ],\n",
       "         [  0.       ,   0.       ,   0.       ,   0.       ],\n",
       "         [  0.       ,   0.       ,   0.       ,   0.       ],\n",
       "         [  0.       ,   0.       ,   0.       ,   0.       ],\n",
       "         [  0.       ,   0.       ,   0.       ,   0.       ],\n",
       "         [  0.       ,   0.       ,   0.       ,   0.       ],\n",
       "         [  0.       ,   0.       ,   0.       ,   0.       ],\n",
       "         [  0.       ,   0.       ,   0.       ,   0.       ],\n",
       "         [  0.       ,   0.       ,   0.       ,   0.       ],\n",
       "         [  0.       ,   0.       ,   0.       ,   0.       ],\n",
       "         [  0.       ,   0.       ,   0.       ,   0.       ],\n",
       "         [  0.       ,   0.       ,   0.       ,   0.       ],\n",
       "         [  0.       ,   0.       ,   0.       ,   0.       ],\n",
       "         [  0.       ,   0.       ,   0.       ,   0.       ],\n",
       "         [  0.       ,   0.       ,   0.       ,   0.       ],\n",
       "         [  0.       ,   0.       ,   0.       ,   0.       ],\n",
       "         [  0.       ,   0.       ,   0.       ,   0.       ],\n",
       "         [  0.       ,   0.       ,   0.       ,   0.       ],\n",
       "         [  0.       ,   0.       ,   0.       ,   0.       ],\n",
       "         [  0.       ,   0.       ,   0.       ,   0.       ],\n",
       "         [  0.       ,   0.       ,   0.       ,   0.       ],\n",
       "         [  0.       ,   0.       ,   0.       ,   0.       ],\n",
       "         [  0.       ,   0.       ,   0.       ,   0.       ]],\n",
       "        dtype=float32),\n",
       "  'red-troops': array([[  5.310238 ,   4.106601 ,   1.       , 100.       ],\n",
       "         [  1.7254145,  11.377513 ,   1.       , 100.       ],\n",
       "         [  0.       ,   0.       ,   0.       ,   0.       ],\n",
       "         [  0.       ,   0.       ,   0.       ,   0.       ],\n",
       "         [  0.       ,   0.       ,   0.       ,   0.       ],\n",
       "         [  0.       ,   0.       ,   0.       ,   0.       ],\n",
       "         [  0.       ,   0.       ,   0.       ,   0.       ],\n",
       "         [  0.       ,   0.       ,   0.       ,   0.       ],\n",
       "         [  0.       ,   0.       ,   0.       ,   0.       ],\n",
       "         [  0.       ,   0.       ,   0.       ,   0.       ],\n",
       "         [  0.       ,   0.       ,   0.       ,   0.       ],\n",
       "         [  0.       ,   0.       ,   0.       ,   0.       ],\n",
       "         [  0.       ,   0.       ,   0.       ,   0.       ],\n",
       "         [  0.       ,   0.       ,   0.       ,   0.       ],\n",
       "         [  0.       ,   0.       ,   0.       ,   0.       ],\n",
       "         [  0.       ,   0.       ,   0.       ,   0.       ],\n",
       "         [  0.       ,   0.       ,   0.       ,   0.       ],\n",
       "         [  0.       ,   0.       ,   0.       ,   0.       ],\n",
       "         [  0.       ,   0.       ,   0.       ,   0.       ],\n",
       "         [  0.       ,   0.       ,   0.       ,   0.       ],\n",
       "         [  0.       ,   0.       ,   0.       ,   0.       ],\n",
       "         [  0.       ,   0.       ,   0.       ,   0.       ],\n",
       "         [  0.       ,   0.       ,   0.       ,   0.       ],\n",
       "         [  0.       ,   0.       ,   0.       ,   0.       ],\n",
       "         [  0.       ,   0.       ,   0.       ,   0.       ],\n",
       "         [  0.       ,   0.       ,   0.       ,   0.       ],\n",
       "         [  0.       ,   0.       ,   0.       ,   0.       ],\n",
       "         [  0.       ,   0.       ,   0.       ,   0.       ],\n",
       "         [  0.       ,   0.       ,   0.       ,   0.       ],\n",
       "         [  0.       ,   0.       ,   0.       ,   0.       ],\n",
       "         [  0.       ,   0.       ,   0.       ,   0.       ],\n",
       "         [  0.       ,   0.       ,   0.       ,   0.       ]],\n",
       "        dtype=float32)},\n",
       " 0,\n",
       " False,\n",
       " False,\n",
       " {})"
      ]
     },
     "execution_count": 10,
     "metadata": {},
     "output_type": "execute_result"
    }
   ],
   "source": [
    "env.step(0)\n"
   ]
  },
  {
   "cell_type": "code",
   "execution_count": 3,
   "metadata": {},
   "outputs": [],
   "source": [
    "\n",
    "while True:\n",
    "    env.step(0)\n"
   ]
  },
  {
   "cell_type": "code",
   "execution_count": null,
   "metadata": {},
   "outputs": [],
   "source": [
    "env.close()\n"
   ]
  }
 ],
 "metadata": {
  "kernelspec": {
   "display_name": ".venv",
   "language": "python",
   "name": "python3"
  },
  "language_info": {
   "codemirror_mode": {
    "name": "ipython",
    "version": 3
   },
   "file_extension": ".py",
   "mimetype": "text/x-python",
   "name": "python",
   "nbconvert_exporter": "python",
   "pygments_lexer": "ipython3",
   "version": "3.12.1"
  }
 },
 "nbformat": 4,
 "nbformat_minor": 2
}
