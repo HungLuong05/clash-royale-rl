{
 "cells": [
  {
   "cell_type": "code",
   "execution_count": 1,
   "metadata": {},
   "outputs": [],
   "source": [
    "import gymnasium\n",
    "import clash_royale\n",
    "env = gymnasium.make('clash_royale/Arena-v0', render_mode = \"human\")\n"
   ]
  },
  {
   "cell_type": "code",
   "execution_count": 2,
   "metadata": {},
   "outputs": [
    {
     "name": "stderr",
     "output_type": "stream",
     "text": [
      "c:\\Users\\lunat\\Desktop\\clash-royale-rl\\.venv\\Lib\\site-packages\\gymnasium\\utils\\passive_env_checker.py:159: UserWarning: \u001b[33mWARN: The obs returned by the `reset()` method is not within the observation space.\u001b[0m\n",
      "  logger.warn(f\"{pre} is not within the observation space.\")\n"
     ]
    }
   ],
   "source": [
    "env.reset()\n",
    "env.render()\n"
   ]
  },
  {
   "cell_type": "code",
   "execution_count": 3,
   "metadata": {},
   "outputs": [
    {
     "name": "stderr",
     "output_type": "stream",
     "text": [
      "c:\\Users\\lunat\\Desktop\\clash-royale-rl\\.venv\\Lib\\site-packages\\gymnasium\\utils\\passive_env_checker.py:159: UserWarning: \u001b[33mWARN: The obs returned by the `step()` method is not within the observation space.\u001b[0m\n",
      "  logger.warn(f\"{pre} is not within the observation space.\")\n"
     ]
    },
    {
     "data": {
      "text/plain": [
       "({'blue-troops': array([[3.1686852e+00, 5.5459108e+00, 0.0000000e+00, 6.7000000e+02],\n",
       "         [5.3968608e-01, 3.1750546e+00, 2.0000000e+00, 4.0910000e+03],\n",
       "         [0.0000000e+00, 0.0000000e+00, 0.0000000e+00, 0.0000000e+00],\n",
       "         [0.0000000e+00, 0.0000000e+00, 0.0000000e+00, 0.0000000e+00],\n",
       "         [0.0000000e+00, 0.0000000e+00, 0.0000000e+00, 0.0000000e+00],\n",
       "         [0.0000000e+00, 0.0000000e+00, 0.0000000e+00, 0.0000000e+00],\n",
       "         [0.0000000e+00, 0.0000000e+00, 0.0000000e+00, 0.0000000e+00],\n",
       "         [0.0000000e+00, 0.0000000e+00, 0.0000000e+00, 0.0000000e+00],\n",
       "         [0.0000000e+00, 0.0000000e+00, 0.0000000e+00, 0.0000000e+00],\n",
       "         [0.0000000e+00, 0.0000000e+00, 0.0000000e+00, 0.0000000e+00],\n",
       "         [0.0000000e+00, 0.0000000e+00, 0.0000000e+00, 0.0000000e+00],\n",
       "         [0.0000000e+00, 0.0000000e+00, 0.0000000e+00, 0.0000000e+00],\n",
       "         [0.0000000e+00, 0.0000000e+00, 0.0000000e+00, 0.0000000e+00],\n",
       "         [0.0000000e+00, 0.0000000e+00, 0.0000000e+00, 0.0000000e+00],\n",
       "         [0.0000000e+00, 0.0000000e+00, 0.0000000e+00, 0.0000000e+00],\n",
       "         [0.0000000e+00, 0.0000000e+00, 0.0000000e+00, 0.0000000e+00],\n",
       "         [0.0000000e+00, 0.0000000e+00, 0.0000000e+00, 0.0000000e+00],\n",
       "         [0.0000000e+00, 0.0000000e+00, 0.0000000e+00, 0.0000000e+00],\n",
       "         [0.0000000e+00, 0.0000000e+00, 0.0000000e+00, 0.0000000e+00],\n",
       "         [0.0000000e+00, 0.0000000e+00, 0.0000000e+00, 0.0000000e+00],\n",
       "         [0.0000000e+00, 0.0000000e+00, 0.0000000e+00, 0.0000000e+00],\n",
       "         [0.0000000e+00, 0.0000000e+00, 0.0000000e+00, 0.0000000e+00],\n",
       "         [0.0000000e+00, 0.0000000e+00, 0.0000000e+00, 0.0000000e+00],\n",
       "         [0.0000000e+00, 0.0000000e+00, 0.0000000e+00, 0.0000000e+00],\n",
       "         [0.0000000e+00, 0.0000000e+00, 0.0000000e+00, 0.0000000e+00],\n",
       "         [0.0000000e+00, 0.0000000e+00, 0.0000000e+00, 0.0000000e+00],\n",
       "         [0.0000000e+00, 0.0000000e+00, 0.0000000e+00, 0.0000000e+00],\n",
       "         [0.0000000e+00, 0.0000000e+00, 0.0000000e+00, 0.0000000e+00],\n",
       "         [0.0000000e+00, 0.0000000e+00, 0.0000000e+00, 0.0000000e+00],\n",
       "         [0.0000000e+00, 0.0000000e+00, 0.0000000e+00, 0.0000000e+00],\n",
       "         [0.0000000e+00, 0.0000000e+00, 0.0000000e+00, 0.0000000e+00],\n",
       "         [0.0000000e+00, 0.0000000e+00, 0.0000000e+00, 0.0000000e+00]],\n",
       "        dtype=float32),\n",
       "  'red-troops': array([[  5.8      ,   3.76     ,   1.       , 304.       ],\n",
       "         [  1.3324494,  10.662045 ,   3.       ,  81.       ],\n",
       "         [  2.040345 ,   3.6813579,   0.       , 570.       ],\n",
       "         [  0.       ,   0.       ,   0.       ,   0.       ],\n",
       "         [  0.       ,   0.       ,   0.       ,   0.       ],\n",
       "         [  0.       ,   0.       ,   0.       ,   0.       ],\n",
       "         [  0.       ,   0.       ,   0.       ,   0.       ],\n",
       "         [  0.       ,   0.       ,   0.       ,   0.       ],\n",
       "         [  0.       ,   0.       ,   0.       ,   0.       ],\n",
       "         [  0.       ,   0.       ,   0.       ,   0.       ],\n",
       "         [  0.       ,   0.       ,   0.       ,   0.       ],\n",
       "         [  0.       ,   0.       ,   0.       ,   0.       ],\n",
       "         [  0.       ,   0.       ,   0.       ,   0.       ],\n",
       "         [  0.       ,   0.       ,   0.       ,   0.       ],\n",
       "         [  0.       ,   0.       ,   0.       ,   0.       ],\n",
       "         [  0.       ,   0.       ,   0.       ,   0.       ],\n",
       "         [  0.       ,   0.       ,   0.       ,   0.       ],\n",
       "         [  0.       ,   0.       ,   0.       ,   0.       ],\n",
       "         [  0.       ,   0.       ,   0.       ,   0.       ],\n",
       "         [  0.       ,   0.       ,   0.       ,   0.       ],\n",
       "         [  0.       ,   0.       ,   0.       ,   0.       ],\n",
       "         [  0.       ,   0.       ,   0.       ,   0.       ],\n",
       "         [  0.       ,   0.       ,   0.       ,   0.       ],\n",
       "         [  0.       ,   0.       ,   0.       ,   0.       ],\n",
       "         [  0.       ,   0.       ,   0.       ,   0.       ],\n",
       "         [  0.       ,   0.       ,   0.       ,   0.       ],\n",
       "         [  0.       ,   0.       ,   0.       ,   0.       ],\n",
       "         [  0.       ,   0.       ,   0.       ,   0.       ],\n",
       "         [  0.       ,   0.       ,   0.       ,   0.       ],\n",
       "         [  0.       ,   0.       ,   0.       ,   0.       ],\n",
       "         [  0.       ,   0.       ,   0.       ,   0.       ],\n",
       "         [  0.       ,   0.       ,   0.       ,   0.       ]],\n",
       "        dtype=float32)},\n",
       " 0,\n",
       " False,\n",
       " False,\n",
       " {})"
      ]
     },
     "execution_count": 3,
     "metadata": {},
     "output_type": "execute_result"
    }
   ],
   "source": [
    "env.step(0)\n"
   ]
  },
  {
   "cell_type": "code",
   "execution_count": 4,
   "metadata": {},
   "outputs": [],
   "source": [
    "\n",
    "while True:\n",
    "    env.step(0)\n"
   ]
  },
  {
   "cell_type": "code",
   "execution_count": null,
   "metadata": {},
   "outputs": [],
   "source": [
    "env.close()\n"
   ]
  }
 ],
 "metadata": {
  "kernelspec": {
   "display_name": ".venv",
   "language": "python",
   "name": "python3"
  },
  "language_info": {
   "codemirror_mode": {
    "name": "ipython",
    "version": 3
   },
   "file_extension": ".py",
   "mimetype": "text/x-python",
   "name": "python",
   "nbconvert_exporter": "python",
   "pygments_lexer": "ipython3",
   "version": "3.12.1"
  }
 },
 "nbformat": 4,
 "nbformat_minor": 2
}
